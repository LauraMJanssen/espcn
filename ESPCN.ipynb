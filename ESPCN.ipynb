{
  "cells": [
    {
      "cell_type": "markdown",
      "source": [
        "## SET UP"
      ],
      "metadata": {
        "id": "-QD6p5s-Asxk"
      }
    },
    {
      "cell_type": "code",
      "execution_count": null,
      "metadata": {
        "id": "zDY4MqmqzJTF"
      },
      "outputs": [],
      "source": [
        "from google.colab import drive\n",
        "drive.mount('/content/gdrive')"
      ]
    },
    {
      "cell_type": "code",
      "execution_count": null,
      "metadata": {
        "id": "LAyae7D3zQ35"
      },
      "outputs": [],
      "source": [
        "!git clone https://github.com/LauraMJanssen/espcn.git\n",
        "%cd espcn"
      ]
    },
    {
      "cell_type": "code",
      "execution_count": null,
      "metadata": {
        "id": "CeCketEiIFEO"
      },
      "outputs": [],
      "source": [
        "!pip install keras-tqdm\n",
        "!sudo pip install scikit-video"
      ]
    },
    {
      "cell_type": "markdown",
      "source": [
        "## TRAIN"
      ],
      "metadata": {
        "id": "uHqe6R98Awkv"
      }
    },
    {
      "cell_type": "code",
      "execution_count": null,
      "metadata": {
        "id": "UbHNeas-_4Ho"
      },
      "outputs": [],
      "source": [
        "!python3 train.py --train /content/gdrive/MyDrive/MA/IVUSImages_PNG_Train2 \\\n",
        "                  --validation /content/gdrive/MyDrive/MA/IVUSImages_PNG_Valid2 \\\n",
        "                  --test /content/gdrive/MyDrive/MA/IVUSImages_PNG_Valid2 \\\n",
        "                  --scale 4 \\\n",
        "                  --stage default \\\n",
        "                  --steps_per_epoch 677 \\\n",
        "                  --epochs 40 "
      ]
    },
    {
      "cell_type": "code",
      "execution_count": null,
      "metadata": {
        "colab": {
          "base_uri": "https://localhost:8080/"
        },
        "id": "fp00R-L4dShR",
        "outputId": "3ba8e33e-a15c-4403-c3f9-0dd589678042"
      },
      "outputs": [
        {
          "output_type": "stream",
          "name": "stdout",
          "text": [
            "  adding: content/ESPCN-Keras/model/ESPCN_4X.h5 (deflated 17%)\n"
          ]
        }
      ],
      "source": [
        "!zip -r /content/ESRCN_model.zip /content/ESPCN-Keras/model/ESPCN_4X.h5"
      ]
    },
    {
      "cell_type": "code",
      "execution_count": null,
      "metadata": {
        "colab": {
          "base_uri": "https://localhost:8080/",
          "height": 17
        },
        "id": "IcF9q6wuXPxb",
        "outputId": "a0f227f7-4f28-43c3-d2ce-d4e4f8cfc3dc"
      },
      "outputs": [
        {
          "output_type": "display_data",
          "data": {
            "text/plain": [
              "<IPython.core.display.Javascript object>"
            ],
            "application/javascript": [
              "\n",
              "    async function download(id, filename, size) {\n",
              "      if (!google.colab.kernel.accessAllowed) {\n",
              "        return;\n",
              "      }\n",
              "      const div = document.createElement('div');\n",
              "      const label = document.createElement('label');\n",
              "      label.textContent = `Downloading \"${filename}\": `;\n",
              "      div.appendChild(label);\n",
              "      const progress = document.createElement('progress');\n",
              "      progress.max = size;\n",
              "      div.appendChild(progress);\n",
              "      document.body.appendChild(div);\n",
              "\n",
              "      const buffers = [];\n",
              "      let downloaded = 0;\n",
              "\n",
              "      const channel = await google.colab.kernel.comms.open(id);\n",
              "      // Send a message to notify the kernel that we're ready.\n",
              "      channel.send({})\n",
              "\n",
              "      for await (const message of channel.messages) {\n",
              "        // Send a message to notify the kernel that we're ready.\n",
              "        channel.send({})\n",
              "        if (message.buffers) {\n",
              "          for (const buffer of message.buffers) {\n",
              "            buffers.push(buffer);\n",
              "            downloaded += buffer.byteLength;\n",
              "            progress.value = downloaded;\n",
              "          }\n",
              "        }\n",
              "      }\n",
              "      const blob = new Blob(buffers, {type: 'application/binary'});\n",
              "      const a = document.createElement('a');\n",
              "      a.href = window.URL.createObjectURL(blob);\n",
              "      a.download = filename;\n",
              "      div.appendChild(a);\n",
              "      a.click();\n",
              "      div.remove();\n",
              "    }\n",
              "  "
            ]
          },
          "metadata": {}
        },
        {
          "output_type": "display_data",
          "data": {
            "text/plain": [
              "<IPython.core.display.Javascript object>"
            ],
            "application/javascript": [
              "download(\"download_56a71c48-2726-42db-9a15-95adbc01bdaa\", \"ESRCN_transf_40.zip\", 140133)"
            ]
          },
          "metadata": {}
        }
      ],
      "source": [
        "from google.colab import files\n",
        "files.download(\"/content/ESRCN_model.zip\")"
      ]
    },
    {
      "cell_type": "markdown",
      "source": [
        "## TEST"
      ],
      "metadata": {
        "id": "gs-Pbl7hAyeD"
      }
    },
    {
      "cell_type": "markdown",
      "source": [
        "(1) Create necessary directories"
      ],
      "metadata": {
        "id": "bekJZnQhA0sQ"
      }
    },
    {
      "cell_type": "code",
      "execution_count": 5,
      "metadata": {
        "id": "AhG-jnOiHiHT"
      },
      "outputs": [],
      "source": [
        "!mkdir /content/results"
      ]
    },
    {
      "cell_type": "code",
      "source": [
        "!mkdir /content/espcn/logs"
      ],
      "metadata": {
        "id": "Oqc5l-qc83XW",
        "colab": {
          "base_uri": "https://localhost:8080/"
        },
        "outputId": "bab4bc0a-8117-425f-8994-481bfff196ef"
      },
      "execution_count": 8,
      "outputs": [
        {
          "output_type": "stream",
          "name": "stdout",
          "text": [
            "mkdir: cannot create directory ‘/content/espcn/logs’: File exists\n"
          ]
        }
      ]
    },
    {
      "cell_type": "markdown",
      "source": [
        "(2) Define quality metric functions"
      ],
      "metadata": {
        "id": "bdVfHOvzBA0B"
      }
    },
    {
      "cell_type": "code",
      "execution_count": null,
      "metadata": {
        "id": "R5bzb8fKglre"
      },
      "outputs": [],
      "source": [
        "from skimage.metrics import structural_similarity as ssim\n",
        "\n",
        "# define a function for peak signal-to-noise ratio (PSNR)\n",
        "def psnr(target, ref):\n",
        "         \n",
        "    # assume RGB image\n",
        "    target_data = target.astype(float)\n",
        "    ref_data = ref.astype(float)\n",
        "\n",
        "    diff = ref_data - target_data\n",
        "    diff = diff.flatten('C')\n",
        "\n",
        "    rmse = math.sqrt(np.mean(diff ** 2.))\n",
        "\n",
        "    return 20 * math.log10(255. / rmse)\n",
        "\n",
        "# define function for mean squared error (MSE)\n",
        "def mse(target, ref):\n",
        "    # the MSE between the two images is the sum of the squared difference between the two images\n",
        "    err = np.sum((target.astype('float') - ref.astype('float')) ** 2)\n",
        "    err /= float(target.shape[0] * target.shape[1])\n",
        "    \n",
        "    return err\n",
        "\n",
        "# define function that combines all three image quality metrics\n",
        "def compare_images(target, ref):\n",
        "    scores = []\n",
        "    scores.append(psnr(target, ref))\n",
        "    scores.append(mse(target, ref))\n",
        "    scores.append(ssim(target, ref, multichannel =True))\n",
        "    \n",
        "    return scores"
      ]
    },
    {
      "cell_type": "markdown",
      "source": [
        "(3) Execute model on all images"
      ],
      "metadata": {
        "id": "1KW2_bFYA3-d"
      }
    },
    {
      "cell_type": "code",
      "execution_count": null,
      "metadata": {
        "id": "K1smtiDCdCUr"
      },
      "outputs": [],
      "source": [
        "!python libs/espcn.py"
      ]
    },
    {
      "cell_type": "markdown",
      "source": [
        "(3) Print results \\\\\n",
        "(make sure to adapt ref and degraded parts according to image read above)"
      ],
      "metadata": {
        "id": "2wobrUfQBER_"
      }
    },
    {
      "cell_type": "code",
      "execution_count": null,
      "metadata": {
        "colab": {
          "base_uri": "https://localhost:8080/"
        },
        "id": "bjC032dAgo2V",
        "outputId": "0730dd32-ae42-4d67-8094-efbf2ed9c0ee"
      },
      "outputs": [
        {
          "output_type": "stream",
          "name": "stdout",
          "text": [
            "Degraded Image: \n",
            "PSNR: 13.687345130800821\n",
            "MSE: 8345.78327178955\n",
            "SSIM: 0.505967748705135\n",
            "\n",
            "Reconstructed Image: \n",
            "PSNR: 10.919700420902785\n",
            "MSE: 15784.527042388916\n",
            "SSIM: 0.11427748848404905\n",
            "\n"
          ]
        }
      ],
      "source": [
        "import math\n",
        "import numpy as np\n",
        "import cv2\n",
        "\n",
        "ref = cv2.imread('/content/gdrive/MyDrive/MA/IVUSImages_PNG_Valid2/001.png')\n",
        "degraded = cv2.imread('/content/gdrive/MyDrive/MA/IVUS_LowRes_Scale4_Valid/001.png')\n",
        "output = cv2.imread('/content/results/001.png')\n",
        "  \n",
        "# image quality calculations\n",
        "scores = []\n",
        "h, w, _ = degraded.shape\n",
        "degraded2 = cv2.resize(degraded, (4*w, 4*h))\n",
        "scores.append(compare_images(degraded2, ref))\n",
        "\n",
        "scores.append(compare_images(output, ref))\n",
        "\n",
        "  \n",
        "# print all scores for all images\n",
        "print('Degraded Image: \\nPSNR: {}\\nMSE: {}\\nSSIM: {}\\n'.format(scores[0][0], scores[0][1], scores[0][2]))\n",
        "print('Reconstructed Image: \\nPSNR: {}\\nMSE: {}\\nSSIM: {}\\n'.format(scores[1][0], scores[1][1], scores[1][2]))"
      ]
    }
  ],
  "metadata": {
    "colab": {
      "collapsed_sections": [],
      "machine_shape": "hm",
      "name": "ESPCN-Keras",
      "provenance": []
    },
    "gpuClass": "standard",
    "kernelspec": {
      "display_name": "Python 3",
      "name": "python3"
    },
    "language_info": {
      "name": "python"
    }
  },
  "nbformat": 4,
  "nbformat_minor": 0
}
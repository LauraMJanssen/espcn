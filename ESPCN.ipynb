{
  "cells": [
    {
      "cell_type": "markdown",
      "metadata": {
        "id": "-QD6p5s-Asxk"
      },
      "source": [
        "## SET UP"
      ]
    },
    {
      "cell_type": "code",
      "execution_count": null,
      "metadata": {
        "id": "zDY4MqmqzJTF"
      },
      "outputs": [],
      "source": [
        "from google.colab import drive\n",
        "drive.mount('/content/drive')"
      ]
    },
    {
      "cell_type": "code",
      "execution_count": null,
      "metadata": {
        "id": "LAyae7D3zQ35"
      },
      "outputs": [],
      "source": [
        "!git clone https://github.com/LauraMJanssen/espcn.git\n",
        "%cd espcn"
      ]
    },
    {
      "cell_type": "code",
      "execution_count": null,
      "metadata": {
        "id": "CeCketEiIFEO"
      },
      "outputs": [],
      "source": [
        "!pip install keras-tqdm\n",
        "!sudo pip install scikit-video"
      ]
    },
    {
      "cell_type": "markdown",
      "metadata": {
        "id": "uHqe6R98Awkv"
      },
      "source": [
        "## TRAIN"
      ]
    },
    {
      "cell_type": "markdown",
      "metadata": {
        "id": "MGnksnFny-bZ"
      },
      "source": [
        "For transfer learning: \\\n",
        "remove '#' in line 303 in 'espcn/train.py'"
      ]
    },
    {
      "cell_type": "code",
      "execution_count": null,
      "metadata": {
        "id": "UbHNeas-_4Ho"
      },
      "outputs": [],
      "source": [
        "!python3 train.py --train /content/drive/MyDrive/IVUSImages/HR_Train \\\n",
        "                  --validation /content/drive/MyDrive/IVUSImages/HR_Valid \\\n",
        "                  --test /content/drive/MyDrive/IVUSImages/HR_Valid \\\n",
        "                  --scale 4 \\\n",
        "                  --stage default \\\n",
        "                  --steps_per_epoch 677 \\\n",
        "                  --epochs 20 "
      ]
    },
    {
      "cell_type": "code",
      "execution_count": null,
      "metadata": {
        "id": "fp00R-L4dShR"
      },
      "outputs": [],
      "source": [
        "!zip -r /content/ESRCN_model.zip /content/ESPCN-Keras/model/ESPCN_4X.h5"
      ]
    },
    {
      "cell_type": "code",
      "execution_count": null,
      "metadata": {
        "colab": {
          "base_uri": "https://localhost:8080/",
          "height": 17
        },
        "id": "IcF9q6wuXPxb",
        "outputId": "a0f227f7-4f28-43c3-d2ce-d4e4f8cfc3dc"
      },
      "outputs": [],
      "source": [
        "from google.colab import files\n",
        "files.download(\"/content/ESRCN_model.zip\")"
      ]
    },
    {
      "cell_type": "markdown",
      "metadata": {
        "id": "gs-Pbl7hAyeD"
      },
      "source": [
        "## TEST"
      ]
    },
    {
      "cell_type": "markdown",
      "metadata": {
        "id": "bekJZnQhA0sQ"
      },
      "source": [
        "(1) Create necessary directories"
      ]
    },
    {
      "cell_type": "code",
      "execution_count": 12,
      "metadata": {
        "id": "AhG-jnOiHiHT"
      },
      "outputs": [],
      "source": [
        "!mkdir /content/results"
      ]
    },
    {
      "cell_type": "code",
      "execution_count": null,
      "metadata": {
        "id": "Oqc5l-qc83XW"
      },
      "outputs": [],
      "source": [
        "!mkdir /content/espcn/logs"
      ]
    },
    {
      "cell_type": "markdown",
      "metadata": {
        "id": "bdVfHOvzBA0B"
      },
      "source": [
        "(2) Define quality metric functions"
      ]
    },
    {
      "cell_type": "code",
      "execution_count": 14,
      "metadata": {
        "id": "R5bzb8fKglre"
      },
      "outputs": [],
      "source": [
        "from skimage.metrics import structural_similarity as ssim\n",
        "\n",
        "# define a function for peak signal-to-noise ratio (PSNR)\n",
        "def psnr(target, ref):\n",
        "         \n",
        "    # assume RGB image\n",
        "    target_data = target.astype(float)\n",
        "    ref_data = ref.astype(float)\n",
        "\n",
        "    diff = ref_data - target_data\n",
        "    diff = diff.flatten('C')\n",
        "\n",
        "    rmse = math.sqrt(np.mean(diff ** 2.))\n",
        "\n",
        "    return 20 * math.log10(255. / rmse)\n",
        "\n",
        "# define function for mean squared error (MSE)\n",
        "def mse(target, ref):\n",
        "    # the MSE between the two images is the sum of the squared difference\n",
        "    err = np.sum((target.astype('float') - ref.astype('float')) ** 2)\n",
        "    err /= float(target.shape[0] * target.shape[1])\n",
        "    \n",
        "    return err\n",
        "\n",
        "# define function that combines all three image quality metrics\n",
        "def compare_images(target, ref):\n",
        "    scores = []\n",
        "    scores.append(psnr(target, ref))\n",
        "    scores.append(mse(target, ref))\n",
        "    scores.append(ssim(target, ref, multichannel =True))\n",
        "    \n",
        "    return scores"
      ]
    },
    {
      "cell_type": "markdown",
      "metadata": {
        "id": "1KW2_bFYA3-d"
      },
      "source": [
        "(3) Execute model on all images"
      ]
    },
    {
      "cell_type": "code",
      "execution_count": null,
      "metadata": {
        "id": "K1smtiDCdCUr"
      },
      "outputs": [],
      "source": [
        "!python libs/espcn.py"
      ]
    },
    {
      "cell_type": "markdown",
      "metadata": {
        "id": "2wobrUfQBER_"
      },
      "source": [
        "(4) Print results \\\n",
        "(make sure to adapt ref and degraded parts according to image read above)"
      ]
    },
    {
      "cell_type": "code",
      "execution_count": null,
      "metadata": {
        "id": "bjC032dAgo2V"
      },
      "outputs": [],
      "source": [
        "import math\n",
        "import numpy as np\n",
        "import cv2\n",
        "\n",
        "HR = cv2.imread('/content/drive/MyDrive/IVUSImages/HR_Valid/001.png')\n",
        "LR = cv2.imread('/content/drive/MyDrive/IVUSImages/LR_Scale4_Valid/001.png')\n",
        "SR = cv2.imread('/content/results/001.png')\n",
        "  \n",
        "# image quality calculations\n",
        "scores = []\n",
        "h, w, _ = LR.shape\n",
        "LR2 = cv2.resize(LR, (4*w, 4*h))\n",
        "scores.append(compare_images(LR2, HR))\n",
        "\n",
        "scores.append(compare_images(SR, HR))\n",
        "\n",
        "  \n",
        "# print all scores for all images\n",
        "print('Degraded Image: \\nPSNR: {}\\nMSE: {}\\nSSIM: {}\\n'\n",
        "        .format(scores[0][0], scores[0][1], scores[0][2]))\n",
        "print('Reconstructed Image: \\nPSNR: {}\\nMSE: {}\\nSSIM: {}\\n'\n",
        "        .format(scores[1][0], scores[1][1], scores[1][2]))"
      ]
    }
  ],
  "metadata": {
    "colab": {
      "collapsed_sections": [],
      "machine_shape": "hm",
      "name": "ESPCN",
      "provenance": []
    },
    "gpuClass": "standard",
    "kernelspec": {
      "display_name": "Python 3",
      "name": "python3"
    },
    "language_info": {
      "name": "python"
    }
  },
  "nbformat": 4,
  "nbformat_minor": 0
}
